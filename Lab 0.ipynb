{
 "cells": [
  {
   "cell_type": "code",
   "execution_count": 1,
   "id": "323fc330-370d-4a61-b937-a4bd6c6ec75a",
   "metadata": {},
   "outputs": [
    {
     "name": "stdout",
     "output_type": "stream",
     "text": [
      "3.11.9\n"
     ]
    }
   ],
   "source": [
    "from platform import python_version\n",
    "\n",
    "print(python_version())"
   ]
  },
  {
   "cell_type": "code",
   "execution_count": 2,
   "id": "043b77df-3bc0-450b-bce9-94082add6ed8",
   "metadata": {},
   "outputs": [
    {
     "name": "stdout",
     "output_type": "stream",
     "text": [
      "Collecting qc-grader@ git+https://github.com/qiskit-community/Quantum-Challenge-Grader.git (from qc-grader[jupyter,qiskit]@ git+https://github.com/qiskit-community/Quantum-Challenge-Grader.git)\n",
      "  Cloning https://github.com/qiskit-community/Quantum-Challenge-Grader.git to /tmp/pip-install-303ecbat/qc-grader_6af3c9b59af24e17bbf455370fe796dc\n",
      "  Running command git clone --filter=blob:none --quiet https://github.com/qiskit-community/Quantum-Challenge-Grader.git /tmp/pip-install-303ecbat/qc-grader_6af3c9b59af24e17bbf455370fe796dc\n",
      "  Resolved https://github.com/qiskit-community/Quantum-Challenge-Grader.git to commit 897f4448b14d18b4d0a430f57f11c2dcb6200c20\n",
      "  Preparing metadata (setup.py) ... \u001b[?25ldone\n",
      "\u001b[?25hRequirement already satisfied: typeguard in /opt/.qbraid/environments/qgss_000000/pyenv/lib/python3.11/site-packages (from qc-grader@ git+https://github.com/qiskit-community/Quantum-Challenge-Grader.git->qc-grader[jupyter,qiskit]@ git+https://github.com/qiskit-community/Quantum-Challenge-Grader.git) (4.4.4)\n",
      "Requirement already satisfied: jsonpickle==3.0.3 in /opt/.qbraid/environments/qgss_000000/pyenv/lib/python3.11/site-packages (from qc-grader@ git+https://github.com/qiskit-community/Quantum-Challenge-Grader.git->qc-grader[jupyter,qiskit]@ git+https://github.com/qiskit-community/Quantum-Challenge-Grader.git) (3.0.3)\n",
      "Requirement already satisfied: requests==2.32.3 in /opt/.qbraid/environments/qgss_000000/pyenv/lib/python3.11/site-packages (from qc-grader@ git+https://github.com/qiskit-community/Quantum-Challenge-Grader.git->qc-grader[jupyter,qiskit]@ git+https://github.com/qiskit-community/Quantum-Challenge-Grader.git) (2.32.3)\n",
      "Requirement already satisfied: ipycytoscape in /opt/.qbraid/environments/qgss_000000/pyenv/lib/python3.11/site-packages (from qc-grader@ git+https://github.com/qiskit-community/Quantum-Challenge-Grader.git->qc-grader[jupyter,qiskit]@ git+https://github.com/qiskit-community/Quantum-Challenge-Grader.git) (1.3.3)\n",
      "Requirement already satisfied: plotly in /opt/.qbraid/environments/qgss_000000/pyenv/lib/python3.11/site-packages (from qc-grader@ git+https://github.com/qiskit-community/Quantum-Challenge-Grader.git->qc-grader[jupyter,qiskit]@ git+https://github.com/qiskit-community/Quantum-Challenge-Grader.git) (6.2.0)\n",
      "Requirement already satisfied: networkx==3.2.1 in /opt/.qbraid/environments/qgss_000000/pyenv/lib/python3.11/site-packages (from qc-grader@ git+https://github.com/qiskit-community/Quantum-Challenge-Grader.git->qc-grader[jupyter,qiskit]@ git+https://github.com/qiskit-community/Quantum-Challenge-Grader.git) (3.2.1)\n",
      "Requirement already satisfied: graphviz in /opt/.qbraid/environments/qgss_000000/pyenv/lib/python3.11/site-packages (from qc-grader@ git+https://github.com/qiskit-community/Quantum-Challenge-Grader.git->qc-grader[jupyter,qiskit]@ git+https://github.com/qiskit-community/Quantum-Challenge-Grader.git) (0.21)\n",
      "Requirement already satisfied: ibm-platform-services==0.66.1 in /opt/.qbraid/environments/qgss_000000/pyenv/lib/python3.11/site-packages (from qc-grader@ git+https://github.com/qiskit-community/Quantum-Challenge-Grader.git->qc-grader[jupyter,qiskit]@ git+https://github.com/qiskit-community/Quantum-Challenge-Grader.git) (0.66.1)\n",
      "Requirement already satisfied: jupyterlab in /opt/conda/lib/python3.11/site-packages (from qc-grader@ git+https://github.com/qiskit-community/Quantum-Challenge-Grader.git->qc-grader[jupyter,qiskit]@ git+https://github.com/qiskit-community/Quantum-Challenge-Grader.git) (4.2.0)\n",
      "Requirement already satisfied: ipykernel in /opt/conda/lib/python3.11/site-packages (from qc-grader@ git+https://github.com/qiskit-community/Quantum-Challenge-Grader.git->qc-grader[jupyter,qiskit]@ git+https://github.com/qiskit-community/Quantum-Challenge-Grader.git) (6.29.3)\n",
      "Collecting qiskit~=2.1.0 (from qiskit[visualization]~=2.1.0; extra == \"qiskit\"->qc-grader@ git+https://github.com/qiskit-community/Quantum-Challenge-Grader.git->qc-grader[jupyter,qiskit]@ git+https://github.com/qiskit-community/Quantum-Challenge-Grader.git)\n",
      "  Using cached qiskit-2.1.0-cp39-abi3-manylinux_2_17_x86_64.manylinux2014_x86_64.whl.metadata (12 kB)\n",
      "Requirement already satisfied: qiskit-ibm-runtime in /opt/.qbraid/environments/qgss_000000/pyenv/lib/python3.11/site-packages (from qc-grader@ git+https://github.com/qiskit-community/Quantum-Challenge-Grader.git->qc-grader[jupyter,qiskit]@ git+https://github.com/qiskit-community/Quantum-Challenge-Grader.git) (0.40.1)\n",
      "Requirement already satisfied: qiskit-aer in /opt/.qbraid/environments/qgss_000000/pyenv/lib/python3.11/site-packages (from qc-grader@ git+https://github.com/qiskit-community/Quantum-Challenge-Grader.git->qc-grader[jupyter,qiskit]@ git+https://github.com/qiskit-community/Quantum-Challenge-Grader.git) (0.17.1)\n",
      "Requirement already satisfied: ibm_cloud_sdk_core<4.0.0,>=3.24.1 in /opt/.qbraid/environments/qgss_000000/pyenv/lib/python3.11/site-packages (from ibm-platform-services==0.66.1->qc-grader@ git+https://github.com/qiskit-community/Quantum-Challenge-Grader.git->qc-grader[jupyter,qiskit]@ git+https://github.com/qiskit-community/Quantum-Challenge-Grader.git) (3.24.1)\n",
      "Requirement already satisfied: charset-normalizer<4,>=2 in /opt/.qbraid/environments/qgss_000000/pyenv/lib/python3.11/site-packages (from requests==2.32.3->qc-grader@ git+https://github.com/qiskit-community/Quantum-Challenge-Grader.git->qc-grader[jupyter,qiskit]@ git+https://github.com/qiskit-community/Quantum-Challenge-Grader.git) (3.4.2)\n",
      "Requirement already satisfied: idna<4,>=2.5 in /opt/.qbraid/environments/qgss_000000/pyenv/lib/python3.11/site-packages (from requests==2.32.3->qc-grader@ git+https://github.com/qiskit-community/Quantum-Challenge-Grader.git->qc-grader[jupyter,qiskit]@ git+https://github.com/qiskit-community/Quantum-Challenge-Grader.git) (3.10)\n",
      "Requirement already satisfied: urllib3<3,>=1.21.1 in /opt/.qbraid/environments/qgss_000000/pyenv/lib/python3.11/site-packages (from requests==2.32.3->qc-grader@ git+https://github.com/qiskit-community/Quantum-Challenge-Grader.git->qc-grader[jupyter,qiskit]@ git+https://github.com/qiskit-community/Quantum-Challenge-Grader.git) (2.5.0)\n",
      "Requirement already satisfied: certifi>=2017.4.17 in /opt/.qbraid/environments/qgss_000000/pyenv/lib/python3.11/site-packages (from requests==2.32.3->qc-grader@ git+https://github.com/qiskit-community/Quantum-Challenge-Grader.git->qc-grader[jupyter,qiskit]@ git+https://github.com/qiskit-community/Quantum-Challenge-Grader.git) (2025.6.15)\n",
      "Requirement already satisfied: python_dateutil<3.0.0,>=2.8.2 in /opt/.qbraid/environments/qgss_000000/pyenv/lib/python3.11/site-packages (from ibm_cloud_sdk_core<4.0.0,>=3.24.1->ibm-platform-services==0.66.1->qc-grader@ git+https://github.com/qiskit-community/Quantum-Challenge-Grader.git->qc-grader[jupyter,qiskit]@ git+https://github.com/qiskit-community/Quantum-Challenge-Grader.git) (2.9.0.post0)\n",
      "Requirement already satisfied: PyJWT<3.0.0,>=2.8.0 in /opt/.qbraid/environments/qgss_000000/pyenv/lib/python3.11/site-packages (from ibm_cloud_sdk_core<4.0.0,>=3.24.1->ibm-platform-services==0.66.1->qc-grader@ git+https://github.com/qiskit-community/Quantum-Challenge-Grader.git->qc-grader[jupyter,qiskit]@ git+https://github.com/qiskit-community/Quantum-Challenge-Grader.git) (2.10.1)\n",
      "Requirement already satisfied: six>=1.5 in /opt/.qbraid/environments/qgss_000000/pyenv/lib/python3.11/site-packages (from python_dateutil<3.0.0,>=2.8.2->ibm_cloud_sdk_core<4.0.0,>=3.24.1->ibm-platform-services==0.66.1->qc-grader@ git+https://github.com/qiskit-community/Quantum-Challenge-Grader.git->qc-grader[jupyter,qiskit]@ git+https://github.com/qiskit-community/Quantum-Challenge-Grader.git) (1.17.0)\n",
      "Requirement already satisfied: rustworkx>=0.15.0 in /opt/.qbraid/environments/qgss_000000/pyenv/lib/python3.11/site-packages (from qiskit~=2.1.0->qiskit[visualization]~=2.1.0; extra == \"qiskit\"->qc-grader@ git+https://github.com/qiskit-community/Quantum-Challenge-Grader.git->qc-grader[jupyter,qiskit]@ git+https://github.com/qiskit-community/Quantum-Challenge-Grader.git) (0.16.0)\n",
      "Requirement already satisfied: numpy<3,>=1.17 in /opt/.qbraid/environments/qgss_000000/pyenv/lib/python3.11/site-packages (from qiskit~=2.1.0->qiskit[visualization]~=2.1.0; extra == \"qiskit\"->qc-grader@ git+https://github.com/qiskit-community/Quantum-Challenge-Grader.git->qc-grader[jupyter,qiskit]@ git+https://github.com/qiskit-community/Quantum-Challenge-Grader.git) (2.3.1)\n",
      "Requirement already satisfied: scipy>=1.5 in /opt/.qbraid/environments/qgss_000000/pyenv/lib/python3.11/site-packages (from qiskit~=2.1.0->qiskit[visualization]~=2.1.0; extra == \"qiskit\"->qc-grader@ git+https://github.com/qiskit-community/Quantum-Challenge-Grader.git->qc-grader[jupyter,qiskit]@ git+https://github.com/qiskit-community/Quantum-Challenge-Grader.git) (1.16.0)\n",
      "Requirement already satisfied: dill>=0.3 in /opt/.qbraid/environments/qgss_000000/pyenv/lib/python3.11/site-packages (from qiskit~=2.1.0->qiskit[visualization]~=2.1.0; extra == \"qiskit\"->qc-grader@ git+https://github.com/qiskit-community/Quantum-Challenge-Grader.git->qc-grader[jupyter,qiskit]@ git+https://github.com/qiskit-community/Quantum-Challenge-Grader.git) (0.4.0)\n",
      "Requirement already satisfied: stevedore>=3.0.0 in /opt/.qbraid/environments/qgss_000000/pyenv/lib/python3.11/site-packages (from qiskit~=2.1.0->qiskit[visualization]~=2.1.0; extra == \"qiskit\"->qc-grader@ git+https://github.com/qiskit-community/Quantum-Challenge-Grader.git->qc-grader[jupyter,qiskit]@ git+https://github.com/qiskit-community/Quantum-Challenge-Grader.git) (5.4.1)\n",
      "Requirement already satisfied: typing-extensions in /opt/.qbraid/environments/qgss_000000/pyenv/lib/python3.11/site-packages (from qiskit~=2.1.0->qiskit[visualization]~=2.1.0; extra == \"qiskit\"->qc-grader@ git+https://github.com/qiskit-community/Quantum-Challenge-Grader.git->qc-grader[jupyter,qiskit]@ git+https://github.com/qiskit-community/Quantum-Challenge-Grader.git) (4.14.1)\n",
      "Requirement already satisfied: matplotlib>=3.3 in /opt/.qbraid/environments/qgss_000000/pyenv/lib/python3.11/site-packages (from qiskit[visualization]~=2.1.0; extra == \"qiskit\"->qc-grader@ git+https://github.com/qiskit-community/Quantum-Challenge-Grader.git->qc-grader[jupyter,qiskit]@ git+https://github.com/qiskit-community/Quantum-Challenge-Grader.git) (3.10.3)\n",
      "Requirement already satisfied: pydot in /opt/.qbraid/environments/qgss_000000/pyenv/lib/python3.11/site-packages (from qiskit[visualization]~=2.1.0; extra == \"qiskit\"->qc-grader@ git+https://github.com/qiskit-community/Quantum-Challenge-Grader.git->qc-grader[jupyter,qiskit]@ git+https://github.com/qiskit-community/Quantum-Challenge-Grader.git) (4.0.1)\n",
      "Requirement already satisfied: Pillow>=4.2.1 in /opt/.qbraid/environments/qgss_000000/pyenv/lib/python3.11/site-packages (from qiskit[visualization]~=2.1.0; extra == \"qiskit\"->qc-grader@ git+https://github.com/qiskit-community/Quantum-Challenge-Grader.git->qc-grader[jupyter,qiskit]@ git+https://github.com/qiskit-community/Quantum-Challenge-Grader.git) (11.3.0)\n",
      "Requirement already satisfied: pylatexenc>=1.4 in /opt/.qbraid/environments/qgss_000000/pyenv/lib/python3.11/site-packages (from qiskit[visualization]~=2.1.0; extra == \"qiskit\"->qc-grader@ git+https://github.com/qiskit-community/Quantum-Challenge-Grader.git->qc-grader[jupyter,qiskit]@ git+https://github.com/qiskit-community/Quantum-Challenge-Grader.git) (2.10)\n",
      "Requirement already satisfied: seaborn>=0.9.0 in /opt/.qbraid/environments/qgss_000000/pyenv/lib/python3.11/site-packages (from qiskit[visualization]~=2.1.0; extra == \"qiskit\"->qc-grader@ git+https://github.com/qiskit-community/Quantum-Challenge-Grader.git->qc-grader[jupyter,qiskit]@ git+https://github.com/qiskit-community/Quantum-Challenge-Grader.git) (0.13.2)\n",
      "Requirement already satisfied: sympy>=1.3 in /opt/.qbraid/environments/qgss_000000/pyenv/lib/python3.11/site-packages (from qiskit[visualization]~=2.1.0; extra == \"qiskit\"->qc-grader@ git+https://github.com/qiskit-community/Quantum-Challenge-Grader.git->qc-grader[jupyter,qiskit]@ git+https://github.com/qiskit-community/Quantum-Challenge-Grader.git) (1.14.0)\n",
      "Requirement already satisfied: contourpy>=1.0.1 in /opt/.qbraid/environments/qgss_000000/pyenv/lib/python3.11/site-packages (from matplotlib>=3.3->qiskit[visualization]~=2.1.0; extra == \"qiskit\"->qc-grader@ git+https://github.com/qiskit-community/Quantum-Challenge-Grader.git->qc-grader[jupyter,qiskit]@ git+https://github.com/qiskit-community/Quantum-Challenge-Grader.git) (1.3.2)\n",
      "Requirement already satisfied: cycler>=0.10 in /opt/.qbraid/environments/qgss_000000/pyenv/lib/python3.11/site-packages (from matplotlib>=3.3->qiskit[visualization]~=2.1.0; extra == \"qiskit\"->qc-grader@ git+https://github.com/qiskit-community/Quantum-Challenge-Grader.git->qc-grader[jupyter,qiskit]@ git+https://github.com/qiskit-community/Quantum-Challenge-Grader.git) (0.12.1)\n",
      "Requirement already satisfied: fonttools>=4.22.0 in /opt/.qbraid/environments/qgss_000000/pyenv/lib/python3.11/site-packages (from matplotlib>=3.3->qiskit[visualization]~=2.1.0; extra == \"qiskit\"->qc-grader@ git+https://github.com/qiskit-community/Quantum-Challenge-Grader.git->qc-grader[jupyter,qiskit]@ git+https://github.com/qiskit-community/Quantum-Challenge-Grader.git) (4.58.5)\n",
      "Requirement already satisfied: kiwisolver>=1.3.1 in /opt/.qbraid/environments/qgss_000000/pyenv/lib/python3.11/site-packages (from matplotlib>=3.3->qiskit[visualization]~=2.1.0; extra == \"qiskit\"->qc-grader@ git+https://github.com/qiskit-community/Quantum-Challenge-Grader.git->qc-grader[jupyter,qiskit]@ git+https://github.com/qiskit-community/Quantum-Challenge-Grader.git) (1.4.8)\n",
      "Requirement already satisfied: packaging>=20.0 in /opt/.qbraid/environments/qgss_000000/pyenv/lib/python3.11/site-packages (from matplotlib>=3.3->qiskit[visualization]~=2.1.0; extra == \"qiskit\"->qc-grader@ git+https://github.com/qiskit-community/Quantum-Challenge-Grader.git->qc-grader[jupyter,qiskit]@ git+https://github.com/qiskit-community/Quantum-Challenge-Grader.git) (25.0)\n",
      "Requirement already satisfied: pyparsing>=2.3.1 in /opt/.qbraid/environments/qgss_000000/pyenv/lib/python3.11/site-packages (from matplotlib>=3.3->qiskit[visualization]~=2.1.0; extra == \"qiskit\"->qc-grader@ git+https://github.com/qiskit-community/Quantum-Challenge-Grader.git->qc-grader[jupyter,qiskit]@ git+https://github.com/qiskit-community/Quantum-Challenge-Grader.git) (3.2.3)\n",
      "Requirement already satisfied: pandas>=1.2 in /opt/.qbraid/environments/qgss_000000/pyenv/lib/python3.11/site-packages (from seaborn>=0.9.0->qiskit[visualization]~=2.1.0; extra == \"qiskit\"->qc-grader@ git+https://github.com/qiskit-community/Quantum-Challenge-Grader.git->qc-grader[jupyter,qiskit]@ git+https://github.com/qiskit-community/Quantum-Challenge-Grader.git) (2.3.0)\n",
      "Requirement already satisfied: pytz>=2020.1 in /opt/.qbraid/environments/qgss_000000/pyenv/lib/python3.11/site-packages (from pandas>=1.2->seaborn>=0.9.0->qiskit[visualization]~=2.1.0; extra == \"qiskit\"->qc-grader@ git+https://github.com/qiskit-community/Quantum-Challenge-Grader.git->qc-grader[jupyter,qiskit]@ git+https://github.com/qiskit-community/Quantum-Challenge-Grader.git) (2025.2)\n",
      "Requirement already satisfied: tzdata>=2022.7 in /opt/.qbraid/environments/qgss_000000/pyenv/lib/python3.11/site-packages (from pandas>=1.2->seaborn>=0.9.0->qiskit[visualization]~=2.1.0; extra == \"qiskit\"->qc-grader@ git+https://github.com/qiskit-community/Quantum-Challenge-Grader.git->qc-grader[jupyter,qiskit]@ git+https://github.com/qiskit-community/Quantum-Challenge-Grader.git) (2025.2)\n",
      "Requirement already satisfied: pbr>=2.0.0 in /opt/.qbraid/environments/qgss_000000/pyenv/lib/python3.11/site-packages (from stevedore>=3.0.0->qiskit~=2.1.0->qiskit[visualization]~=2.1.0; extra == \"qiskit\"->qc-grader@ git+https://github.com/qiskit-community/Quantum-Challenge-Grader.git->qc-grader[jupyter,qiskit]@ git+https://github.com/qiskit-community/Quantum-Challenge-Grader.git) (6.1.1)\n",
      "Requirement already satisfied: setuptools in /opt/.qbraid/environments/qgss_000000/pyenv/lib/python3.11/site-packages (from pbr>=2.0.0->stevedore>=3.0.0->qiskit~=2.1.0->qiskit[visualization]~=2.1.0; extra == \"qiskit\"->qc-grader@ git+https://github.com/qiskit-community/Quantum-Challenge-Grader.git->qc-grader[jupyter,qiskit]@ git+https://github.com/qiskit-community/Quantum-Challenge-Grader.git) (65.5.0)\n",
      "Requirement already satisfied: mpmath<1.4,>=1.1.0 in /opt/.qbraid/environments/qgss_000000/pyenv/lib/python3.11/site-packages (from sympy>=1.3->qiskit[visualization]~=2.1.0; extra == \"qiskit\"->qc-grader@ git+https://github.com/qiskit-community/Quantum-Challenge-Grader.git->qc-grader[jupyter,qiskit]@ git+https://github.com/qiskit-community/Quantum-Challenge-Grader.git) (1.3.0)\n",
      "Requirement already satisfied: ipywidgets>=7.6.0 in /opt/.qbraid/environments/qgss_000000/pyenv/lib/python3.11/site-packages (from ipycytoscape->qc-grader@ git+https://github.com/qiskit-community/Quantum-Challenge-Grader.git->qc-grader[jupyter,qiskit]@ git+https://github.com/qiskit-community/Quantum-Challenge-Grader.git) (8.1.7)\n",
      "Requirement already satisfied: spectate>=1.0.0 in /opt/.qbraid/environments/qgss_000000/pyenv/lib/python3.11/site-packages (from ipycytoscape->qc-grader@ git+https://github.com/qiskit-community/Quantum-Challenge-Grader.git->qc-grader[jupyter,qiskit]@ git+https://github.com/qiskit-community/Quantum-Challenge-Grader.git) (1.0.1)\n",
      "Requirement already satisfied: comm>=0.1.3 in /opt/.qbraid/environments/qgss_000000/pyenv/lib/python3.11/site-packages (from ipywidgets>=7.6.0->ipycytoscape->qc-grader@ git+https://github.com/qiskit-community/Quantum-Challenge-Grader.git->qc-grader[jupyter,qiskit]@ git+https://github.com/qiskit-community/Quantum-Challenge-Grader.git) (0.2.2)\n",
      "Requirement already satisfied: ipython>=6.1.0 in /opt/.qbraid/environments/qgss_000000/pyenv/lib/python3.11/site-packages (from ipywidgets>=7.6.0->ipycytoscape->qc-grader@ git+https://github.com/qiskit-community/Quantum-Challenge-Grader.git->qc-grader[jupyter,qiskit]@ git+https://github.com/qiskit-community/Quantum-Challenge-Grader.git) (9.4.0)\n",
      "Requirement already satisfied: traitlets>=4.3.1 in /opt/.qbraid/environments/qgss_000000/pyenv/lib/python3.11/site-packages (from ipywidgets>=7.6.0->ipycytoscape->qc-grader@ git+https://github.com/qiskit-community/Quantum-Challenge-Grader.git->qc-grader[jupyter,qiskit]@ git+https://github.com/qiskit-community/Quantum-Challenge-Grader.git) (5.14.3)\n",
      "Requirement already satisfied: widgetsnbextension~=4.0.14 in /opt/.qbraid/environments/qgss_000000/pyenv/lib/python3.11/site-packages (from ipywidgets>=7.6.0->ipycytoscape->qc-grader@ git+https://github.com/qiskit-community/Quantum-Challenge-Grader.git->qc-grader[jupyter,qiskit]@ git+https://github.com/qiskit-community/Quantum-Challenge-Grader.git) (4.0.14)\n",
      "Requirement already satisfied: jupyterlab_widgets~=3.0.15 in /opt/.qbraid/environments/qgss_000000/pyenv/lib/python3.11/site-packages (from ipywidgets>=7.6.0->ipycytoscape->qc-grader@ git+https://github.com/qiskit-community/Quantum-Challenge-Grader.git->qc-grader[jupyter,qiskit]@ git+https://github.com/qiskit-community/Quantum-Challenge-Grader.git) (3.0.15)\n",
      "Requirement already satisfied: decorator in /opt/.qbraid/environments/qgss_000000/pyenv/lib/python3.11/site-packages (from ipython>=6.1.0->ipywidgets>=7.6.0->ipycytoscape->qc-grader@ git+https://github.com/qiskit-community/Quantum-Challenge-Grader.git->qc-grader[jupyter,qiskit]@ git+https://github.com/qiskit-community/Quantum-Challenge-Grader.git) (5.2.1)\n",
      "Requirement already satisfied: ipython-pygments-lexers in /opt/.qbraid/environments/qgss_000000/pyenv/lib/python3.11/site-packages (from ipython>=6.1.0->ipywidgets>=7.6.0->ipycytoscape->qc-grader@ git+https://github.com/qiskit-community/Quantum-Challenge-Grader.git->qc-grader[jupyter,qiskit]@ git+https://github.com/qiskit-community/Quantum-Challenge-Grader.git) (1.1.1)\n",
      "Requirement already satisfied: jedi>=0.16 in /opt/.qbraid/environments/qgss_000000/pyenv/lib/python3.11/site-packages (from ipython>=6.1.0->ipywidgets>=7.6.0->ipycytoscape->qc-grader@ git+https://github.com/qiskit-community/Quantum-Challenge-Grader.git->qc-grader[jupyter,qiskit]@ git+https://github.com/qiskit-community/Quantum-Challenge-Grader.git) (0.19.2)\n",
      "Requirement already satisfied: matplotlib-inline in /opt/.qbraid/environments/qgss_000000/pyenv/lib/python3.11/site-packages (from ipython>=6.1.0->ipywidgets>=7.6.0->ipycytoscape->qc-grader@ git+https://github.com/qiskit-community/Quantum-Challenge-Grader.git->qc-grader[jupyter,qiskit]@ git+https://github.com/qiskit-community/Quantum-Challenge-Grader.git) (0.1.7)\n",
      "Requirement already satisfied: pexpect>4.3 in /opt/.qbraid/environments/qgss_000000/pyenv/lib/python3.11/site-packages (from ipython>=6.1.0->ipywidgets>=7.6.0->ipycytoscape->qc-grader@ git+https://github.com/qiskit-community/Quantum-Challenge-Grader.git->qc-grader[jupyter,qiskit]@ git+https://github.com/qiskit-community/Quantum-Challenge-Grader.git) (4.9.0)\n",
      "Requirement already satisfied: prompt_toolkit<3.1.0,>=3.0.41 in /opt/.qbraid/environments/qgss_000000/pyenv/lib/python3.11/site-packages (from ipython>=6.1.0->ipywidgets>=7.6.0->ipycytoscape->qc-grader@ git+https://github.com/qiskit-community/Quantum-Challenge-Grader.git->qc-grader[jupyter,qiskit]@ git+https://github.com/qiskit-community/Quantum-Challenge-Grader.git) (3.0.51)\n",
      "Requirement already satisfied: pygments>=2.4.0 in /opt/.qbraid/environments/qgss_000000/pyenv/lib/python3.11/site-packages (from ipython>=6.1.0->ipywidgets>=7.6.0->ipycytoscape->qc-grader@ git+https://github.com/qiskit-community/Quantum-Challenge-Grader.git->qc-grader[jupyter,qiskit]@ git+https://github.com/qiskit-community/Quantum-Challenge-Grader.git) (2.19.2)\n",
      "Requirement already satisfied: stack_data in /opt/.qbraid/environments/qgss_000000/pyenv/lib/python3.11/site-packages (from ipython>=6.1.0->ipywidgets>=7.6.0->ipycytoscape->qc-grader@ git+https://github.com/qiskit-community/Quantum-Challenge-Grader.git->qc-grader[jupyter,qiskit]@ git+https://github.com/qiskit-community/Quantum-Challenge-Grader.git) (0.6.3)\n",
      "Requirement already satisfied: wcwidth in /opt/.qbraid/environments/qgss_000000/pyenv/lib/python3.11/site-packages (from prompt_toolkit<3.1.0,>=3.0.41->ipython>=6.1.0->ipywidgets>=7.6.0->ipycytoscape->qc-grader@ git+https://github.com/qiskit-community/Quantum-Challenge-Grader.git->qc-grader[jupyter,qiskit]@ git+https://github.com/qiskit-community/Quantum-Challenge-Grader.git) (0.2.13)\n",
      "Requirement already satisfied: parso<0.9.0,>=0.8.4 in /opt/.qbraid/environments/qgss_000000/pyenv/lib/python3.11/site-packages (from jedi>=0.16->ipython>=6.1.0->ipywidgets>=7.6.0->ipycytoscape->qc-grader@ git+https://github.com/qiskit-community/Quantum-Challenge-Grader.git->qc-grader[jupyter,qiskit]@ git+https://github.com/qiskit-community/Quantum-Challenge-Grader.git) (0.8.4)\n",
      "Requirement already satisfied: ptyprocess>=0.5 in /opt/.qbraid/environments/qgss_000000/pyenv/lib/python3.11/site-packages (from pexpect>4.3->ipython>=6.1.0->ipywidgets>=7.6.0->ipycytoscape->qc-grader@ git+https://github.com/qiskit-community/Quantum-Challenge-Grader.git->qc-grader[jupyter,qiskit]@ git+https://github.com/qiskit-community/Quantum-Challenge-Grader.git) (0.7.0)\n",
      "Requirement already satisfied: debugpy>=1.6.5 in /opt/conda/lib/python3.11/site-packages (from ipykernel->qc-grader@ git+https://github.com/qiskit-community/Quantum-Challenge-Grader.git->qc-grader[jupyter,qiskit]@ git+https://github.com/qiskit-community/Quantum-Challenge-Grader.git) (1.8.1)\n",
      "Requirement already satisfied: jupyter-client>=6.1.12 in /opt/conda/lib/python3.11/site-packages (from ipykernel->qc-grader@ git+https://github.com/qiskit-community/Quantum-Challenge-Grader.git->qc-grader[jupyter,qiskit]@ git+https://github.com/qiskit-community/Quantum-Challenge-Grader.git) (8.6.1)\n",
      "Requirement already satisfied: jupyter-core!=5.0.*,>=4.12 in /opt/conda/lib/python3.11/site-packages (from ipykernel->qc-grader@ git+https://github.com/qiskit-community/Quantum-Challenge-Grader.git->qc-grader[jupyter,qiskit]@ git+https://github.com/qiskit-community/Quantum-Challenge-Grader.git) (5.7.2)\n",
      "Requirement already satisfied: nest-asyncio in /opt/conda/lib/python3.11/site-packages (from ipykernel->qc-grader@ git+https://github.com/qiskit-community/Quantum-Challenge-Grader.git->qc-grader[jupyter,qiskit]@ git+https://github.com/qiskit-community/Quantum-Challenge-Grader.git) (1.6.0)\n",
      "Requirement already satisfied: psutil in /opt/.qbraid/environments/qgss_000000/pyenv/lib/python3.11/site-packages (from ipykernel->qc-grader@ git+https://github.com/qiskit-community/Quantum-Challenge-Grader.git->qc-grader[jupyter,qiskit]@ git+https://github.com/qiskit-community/Quantum-Challenge-Grader.git) (7.0.0)\n",
      "Requirement already satisfied: pyzmq>=24 in /opt/conda/lib/python3.11/site-packages (from ipykernel->qc-grader@ git+https://github.com/qiskit-community/Quantum-Challenge-Grader.git->qc-grader[jupyter,qiskit]@ git+https://github.com/qiskit-community/Quantum-Challenge-Grader.git) (26.0.3)\n",
      "Requirement already satisfied: tornado>=6.1 in /opt/conda/lib/python3.11/site-packages (from ipykernel->qc-grader@ git+https://github.com/qiskit-community/Quantum-Challenge-Grader.git->qc-grader[jupyter,qiskit]@ git+https://github.com/qiskit-community/Quantum-Challenge-Grader.git) (6.4)\n",
      "Requirement already satisfied: platformdirs>=2.5 in /opt/conda/lib/python3.11/site-packages (from jupyter-core!=5.0.*,>=4.12->ipykernel->qc-grader@ git+https://github.com/qiskit-community/Quantum-Challenge-Grader.git->qc-grader[jupyter,qiskit]@ git+https://github.com/qiskit-community/Quantum-Challenge-Grader.git) (4.2.2)\n",
      "Requirement already satisfied: async-lru>=1.0.0 in /opt/conda/lib/python3.11/site-packages (from jupyterlab->qc-grader@ git+https://github.com/qiskit-community/Quantum-Challenge-Grader.git->qc-grader[jupyter,qiskit]@ git+https://github.com/qiskit-community/Quantum-Challenge-Grader.git) (2.0.4)\n",
      "Requirement already satisfied: httpx>=0.25.0 in /opt/conda/lib/python3.11/site-packages (from jupyterlab->qc-grader@ git+https://github.com/qiskit-community/Quantum-Challenge-Grader.git->qc-grader[jupyter,qiskit]@ git+https://github.com/qiskit-community/Quantum-Challenge-Grader.git) (0.27.0)\n",
      "Requirement already satisfied: jinja2>=3.0.3 in /opt/.qbraid/environments/qgss_000000/pyenv/lib/python3.11/site-packages (from jupyterlab->qc-grader@ git+https://github.com/qiskit-community/Quantum-Challenge-Grader.git->qc-grader[jupyter,qiskit]@ git+https://github.com/qiskit-community/Quantum-Challenge-Grader.git) (3.1.6)\n",
      "Requirement already satisfied: jupyter-lsp>=2.0.0 in /opt/conda/lib/python3.11/site-packages (from jupyterlab->qc-grader@ git+https://github.com/qiskit-community/Quantum-Challenge-Grader.git->qc-grader[jupyter,qiskit]@ git+https://github.com/qiskit-community/Quantum-Challenge-Grader.git) (2.2.5)\n",
      "Requirement already satisfied: jupyter-server<3,>=2.4.0 in /opt/conda/lib/python3.11/site-packages (from jupyterlab->qc-grader@ git+https://github.com/qiskit-community/Quantum-Challenge-Grader.git->qc-grader[jupyter,qiskit]@ git+https://github.com/qiskit-community/Quantum-Challenge-Grader.git) (2.14.0)\n",
      "Requirement already satisfied: jupyterlab-server<3,>=2.27.1 in /opt/conda/lib/python3.11/site-packages (from jupyterlab->qc-grader@ git+https://github.com/qiskit-community/Quantum-Challenge-Grader.git->qc-grader[jupyter,qiskit]@ git+https://github.com/qiskit-community/Quantum-Challenge-Grader.git) (2.27.1)\n",
      "Requirement already satisfied: notebook-shim>=0.2 in /opt/conda/lib/python3.11/site-packages (from jupyterlab->qc-grader@ git+https://github.com/qiskit-community/Quantum-Challenge-Grader.git->qc-grader[jupyter,qiskit]@ git+https://github.com/qiskit-community/Quantum-Challenge-Grader.git) (0.2.4)\n",
      "Requirement already satisfied: anyio>=3.1.0 in /opt/conda/lib/python3.11/site-packages (from jupyter-server<3,>=2.4.0->jupyterlab->qc-grader@ git+https://github.com/qiskit-community/Quantum-Challenge-Grader.git->qc-grader[jupyter,qiskit]@ git+https://github.com/qiskit-community/Quantum-Challenge-Grader.git) (4.3.0)\n",
      "Requirement already satisfied: argon2-cffi>=21.1 in /opt/conda/lib/python3.11/site-packages (from jupyter-server<3,>=2.4.0->jupyterlab->qc-grader@ git+https://github.com/qiskit-community/Quantum-Challenge-Grader.git->qc-grader[jupyter,qiskit]@ git+https://github.com/qiskit-community/Quantum-Challenge-Grader.git) (23.1.0)\n",
      "Requirement already satisfied: jupyter-events>=0.9.0 in /opt/conda/lib/python3.11/site-packages (from jupyter-server<3,>=2.4.0->jupyterlab->qc-grader@ git+https://github.com/qiskit-community/Quantum-Challenge-Grader.git->qc-grader[jupyter,qiskit]@ git+https://github.com/qiskit-community/Quantum-Challenge-Grader.git) (0.10.0)\n",
      "Requirement already satisfied: jupyter-server-terminals>=0.4.4 in /opt/conda/lib/python3.11/site-packages (from jupyter-server<3,>=2.4.0->jupyterlab->qc-grader@ git+https://github.com/qiskit-community/Quantum-Challenge-Grader.git->qc-grader[jupyter,qiskit]@ git+https://github.com/qiskit-community/Quantum-Challenge-Grader.git) (0.5.3)\n",
      "Requirement already satisfied: nbconvert>=6.4.4 in /opt/conda/lib/python3.11/site-packages (from jupyter-server<3,>=2.4.0->jupyterlab->qc-grader@ git+https://github.com/qiskit-community/Quantum-Challenge-Grader.git->qc-grader[jupyter,qiskit]@ git+https://github.com/qiskit-community/Quantum-Challenge-Grader.git) (7.16.4)\n",
      "Requirement already satisfied: nbformat>=5.3.0 in /opt/conda/lib/python3.11/site-packages (from jupyter-server<3,>=2.4.0->jupyterlab->qc-grader@ git+https://github.com/qiskit-community/Quantum-Challenge-Grader.git->qc-grader[jupyter,qiskit]@ git+https://github.com/qiskit-community/Quantum-Challenge-Grader.git) (5.10.4)\n",
      "Requirement already satisfied: overrides>=5.0 in /opt/conda/lib/python3.11/site-packages (from jupyter-server<3,>=2.4.0->jupyterlab->qc-grader@ git+https://github.com/qiskit-community/Quantum-Challenge-Grader.git->qc-grader[jupyter,qiskit]@ git+https://github.com/qiskit-community/Quantum-Challenge-Grader.git) (7.7.0)\n",
      "Requirement already satisfied: prometheus-client>=0.9 in /opt/conda/lib/python3.11/site-packages (from jupyter-server<3,>=2.4.0->jupyterlab->qc-grader@ git+https://github.com/qiskit-community/Quantum-Challenge-Grader.git->qc-grader[jupyter,qiskit]@ git+https://github.com/qiskit-community/Quantum-Challenge-Grader.git) (0.20.0)\n",
      "Requirement already satisfied: send2trash>=1.8.2 in /opt/conda/lib/python3.11/site-packages (from jupyter-server<3,>=2.4.0->jupyterlab->qc-grader@ git+https://github.com/qiskit-community/Quantum-Challenge-Grader.git->qc-grader[jupyter,qiskit]@ git+https://github.com/qiskit-community/Quantum-Challenge-Grader.git) (1.8.3)\n",
      "Requirement already satisfied: terminado>=0.8.3 in /opt/conda/lib/python3.11/site-packages (from jupyter-server<3,>=2.4.0->jupyterlab->qc-grader@ git+https://github.com/qiskit-community/Quantum-Challenge-Grader.git->qc-grader[jupyter,qiskit]@ git+https://github.com/qiskit-community/Quantum-Challenge-Grader.git) (0.18.1)\n",
      "Requirement already satisfied: websocket-client>=1.7 in /opt/conda/lib/python3.11/site-packages (from jupyter-server<3,>=2.4.0->jupyterlab->qc-grader@ git+https://github.com/qiskit-community/Quantum-Challenge-Grader.git->qc-grader[jupyter,qiskit]@ git+https://github.com/qiskit-community/Quantum-Challenge-Grader.git) (1.8.0)\n",
      "Requirement already satisfied: babel>=2.10 in /opt/conda/lib/python3.11/site-packages (from jupyterlab-server<3,>=2.27.1->jupyterlab->qc-grader@ git+https://github.com/qiskit-community/Quantum-Challenge-Grader.git->qc-grader[jupyter,qiskit]@ git+https://github.com/qiskit-community/Quantum-Challenge-Grader.git) (2.14.0)\n",
      "Requirement already satisfied: json5>=0.9.0 in /opt/conda/lib/python3.11/site-packages (from jupyterlab-server<3,>=2.27.1->jupyterlab->qc-grader@ git+https://github.com/qiskit-community/Quantum-Challenge-Grader.git->qc-grader[jupyter,qiskit]@ git+https://github.com/qiskit-community/Quantum-Challenge-Grader.git) (0.9.25)\n",
      "Requirement already satisfied: jsonschema>=4.18.0 in /opt/conda/lib/python3.11/site-packages (from jupyterlab-server<3,>=2.27.1->jupyterlab->qc-grader@ git+https://github.com/qiskit-community/Quantum-Challenge-Grader.git->qc-grader[jupyter,qiskit]@ git+https://github.com/qiskit-community/Quantum-Challenge-Grader.git) (4.22.0)\n",
      "Requirement already satisfied: sniffio>=1.1 in /opt/conda/lib/python3.11/site-packages (from anyio>=3.1.0->jupyter-server<3,>=2.4.0->jupyterlab->qc-grader@ git+https://github.com/qiskit-community/Quantum-Challenge-Grader.git->qc-grader[jupyter,qiskit]@ git+https://github.com/qiskit-community/Quantum-Challenge-Grader.git) (1.3.1)\n",
      "Requirement already satisfied: argon2-cffi-bindings in /opt/conda/lib/python3.11/site-packages (from argon2-cffi>=21.1->jupyter-server<3,>=2.4.0->jupyterlab->qc-grader@ git+https://github.com/qiskit-community/Quantum-Challenge-Grader.git->qc-grader[jupyter,qiskit]@ git+https://github.com/qiskit-community/Quantum-Challenge-Grader.git) (21.2.0)\n",
      "Requirement already satisfied: httpcore==1.* in /opt/conda/lib/python3.11/site-packages (from httpx>=0.25.0->jupyterlab->qc-grader@ git+https://github.com/qiskit-community/Quantum-Challenge-Grader.git->qc-grader[jupyter,qiskit]@ git+https://github.com/qiskit-community/Quantum-Challenge-Grader.git) (1.0.5)\n",
      "Requirement already satisfied: h11<0.15,>=0.13 in /opt/conda/lib/python3.11/site-packages (from httpcore==1.*->httpx>=0.25.0->jupyterlab->qc-grader@ git+https://github.com/qiskit-community/Quantum-Challenge-Grader.git->qc-grader[jupyter,qiskit]@ git+https://github.com/qiskit-community/Quantum-Challenge-Grader.git) (0.14.0)\n",
      "Requirement already satisfied: MarkupSafe>=2.0 in /opt/.qbraid/environments/qgss_000000/pyenv/lib/python3.11/site-packages (from jinja2>=3.0.3->jupyterlab->qc-grader@ git+https://github.com/qiskit-community/Quantum-Challenge-Grader.git->qc-grader[jupyter,qiskit]@ git+https://github.com/qiskit-community/Quantum-Challenge-Grader.git) (3.0.2)\n",
      "Requirement already satisfied: attrs>=22.2.0 in /opt/conda/lib/python3.11/site-packages (from jsonschema>=4.18.0->jupyterlab-server<3,>=2.27.1->jupyterlab->qc-grader@ git+https://github.com/qiskit-community/Quantum-Challenge-Grader.git->qc-grader[jupyter,qiskit]@ git+https://github.com/qiskit-community/Quantum-Challenge-Grader.git) (23.2.0)\n",
      "Requirement already satisfied: jsonschema-specifications>=2023.03.6 in /opt/conda/lib/python3.11/site-packages (from jsonschema>=4.18.0->jupyterlab-server<3,>=2.27.1->jupyterlab->qc-grader@ git+https://github.com/qiskit-community/Quantum-Challenge-Grader.git->qc-grader[jupyter,qiskit]@ git+https://github.com/qiskit-community/Quantum-Challenge-Grader.git) (2023.12.1)\n",
      "Requirement already satisfied: referencing>=0.28.4 in /opt/conda/lib/python3.11/site-packages (from jsonschema>=4.18.0->jupyterlab-server<3,>=2.27.1->jupyterlab->qc-grader@ git+https://github.com/qiskit-community/Quantum-Challenge-Grader.git->qc-grader[jupyter,qiskit]@ git+https://github.com/qiskit-community/Quantum-Challenge-Grader.git) (0.35.1)\n",
      "Requirement already satisfied: rpds-py>=0.7.1 in /opt/conda/lib/python3.11/site-packages (from jsonschema>=4.18.0->jupyterlab-server<3,>=2.27.1->jupyterlab->qc-grader@ git+https://github.com/qiskit-community/Quantum-Challenge-Grader.git->qc-grader[jupyter,qiskit]@ git+https://github.com/qiskit-community/Quantum-Challenge-Grader.git) (0.18.1)\n",
      "Requirement already satisfied: python-json-logger>=2.0.4 in /opt/conda/lib/python3.11/site-packages (from jupyter-events>=0.9.0->jupyter-server<3,>=2.4.0->jupyterlab->qc-grader@ git+https://github.com/qiskit-community/Quantum-Challenge-Grader.git->qc-grader[jupyter,qiskit]@ git+https://github.com/qiskit-community/Quantum-Challenge-Grader.git) (2.0.7)\n",
      "Requirement already satisfied: pyyaml>=5.3 in /opt/conda/lib/python3.11/site-packages (from jupyter-events>=0.9.0->jupyter-server<3,>=2.4.0->jupyterlab->qc-grader@ git+https://github.com/qiskit-community/Quantum-Challenge-Grader.git->qc-grader[jupyter,qiskit]@ git+https://github.com/qiskit-community/Quantum-Challenge-Grader.git) (6.0.1)\n",
      "Requirement already satisfied: rfc3339-validator in /opt/conda/lib/python3.11/site-packages (from jupyter-events>=0.9.0->jupyter-server<3,>=2.4.0->jupyterlab->qc-grader@ git+https://github.com/qiskit-community/Quantum-Challenge-Grader.git->qc-grader[jupyter,qiskit]@ git+https://github.com/qiskit-community/Quantum-Challenge-Grader.git) (0.1.4)\n",
      "Requirement already satisfied: rfc3986-validator>=0.1.1 in /opt/conda/lib/python3.11/site-packages (from jupyter-events>=0.9.0->jupyter-server<3,>=2.4.0->jupyterlab->qc-grader@ git+https://github.com/qiskit-community/Quantum-Challenge-Grader.git->qc-grader[jupyter,qiskit]@ git+https://github.com/qiskit-community/Quantum-Challenge-Grader.git) (0.1.1)\n",
      "Requirement already satisfied: fqdn in /opt/conda/lib/python3.11/site-packages (from jsonschema[format-nongpl]>=4.18.0->jupyter-events>=0.9.0->jupyter-server<3,>=2.4.0->jupyterlab->qc-grader@ git+https://github.com/qiskit-community/Quantum-Challenge-Grader.git->qc-grader[jupyter,qiskit]@ git+https://github.com/qiskit-community/Quantum-Challenge-Grader.git) (1.5.1)\n",
      "Requirement already satisfied: isoduration in /opt/conda/lib/python3.11/site-packages (from jsonschema[format-nongpl]>=4.18.0->jupyter-events>=0.9.0->jupyter-server<3,>=2.4.0->jupyterlab->qc-grader@ git+https://github.com/qiskit-community/Quantum-Challenge-Grader.git->qc-grader[jupyter,qiskit]@ git+https://github.com/qiskit-community/Quantum-Challenge-Grader.git) (20.11.0)\n",
      "Requirement already satisfied: jsonpointer>1.13 in /opt/conda/lib/python3.11/site-packages (from jsonschema[format-nongpl]>=4.18.0->jupyter-events>=0.9.0->jupyter-server<3,>=2.4.0->jupyterlab->qc-grader@ git+https://github.com/qiskit-community/Quantum-Challenge-Grader.git->qc-grader[jupyter,qiskit]@ git+https://github.com/qiskit-community/Quantum-Challenge-Grader.git) (2.4)\n",
      "Requirement already satisfied: uri-template in /opt/conda/lib/python3.11/site-packages (from jsonschema[format-nongpl]>=4.18.0->jupyter-events>=0.9.0->jupyter-server<3,>=2.4.0->jupyterlab->qc-grader@ git+https://github.com/qiskit-community/Quantum-Challenge-Grader.git->qc-grader[jupyter,qiskit]@ git+https://github.com/qiskit-community/Quantum-Challenge-Grader.git) (1.3.0)\n",
      "Requirement already satisfied: webcolors>=1.11 in /opt/conda/lib/python3.11/site-packages (from jsonschema[format-nongpl]>=4.18.0->jupyter-events>=0.9.0->jupyter-server<3,>=2.4.0->jupyterlab->qc-grader@ git+https://github.com/qiskit-community/Quantum-Challenge-Grader.git->qc-grader[jupyter,qiskit]@ git+https://github.com/qiskit-community/Quantum-Challenge-Grader.git) (1.13)\n",
      "Requirement already satisfied: beautifulsoup4 in /opt/conda/lib/python3.11/site-packages (from nbconvert>=6.4.4->jupyter-server<3,>=2.4.0->jupyterlab->qc-grader@ git+https://github.com/qiskit-community/Quantum-Challenge-Grader.git->qc-grader[jupyter,qiskit]@ git+https://github.com/qiskit-community/Quantum-Challenge-Grader.git) (4.12.3)\n",
      "Requirement already satisfied: bleach!=5.0.0 in /opt/conda/lib/python3.11/site-packages (from nbconvert>=6.4.4->jupyter-server<3,>=2.4.0->jupyterlab->qc-grader@ git+https://github.com/qiskit-community/Quantum-Challenge-Grader.git->qc-grader[jupyter,qiskit]@ git+https://github.com/qiskit-community/Quantum-Challenge-Grader.git) (6.1.0)\n",
      "Requirement already satisfied: defusedxml in /opt/conda/lib/python3.11/site-packages (from nbconvert>=6.4.4->jupyter-server<3,>=2.4.0->jupyterlab->qc-grader@ git+https://github.com/qiskit-community/Quantum-Challenge-Grader.git->qc-grader[jupyter,qiskit]@ git+https://github.com/qiskit-community/Quantum-Challenge-Grader.git) (0.7.1)\n",
      "Requirement already satisfied: jupyterlab-pygments in /opt/conda/lib/python3.11/site-packages (from nbconvert>=6.4.4->jupyter-server<3,>=2.4.0->jupyterlab->qc-grader@ git+https://github.com/qiskit-community/Quantum-Challenge-Grader.git->qc-grader[jupyter,qiskit]@ git+https://github.com/qiskit-community/Quantum-Challenge-Grader.git) (0.3.0)\n",
      "Requirement already satisfied: mistune<4,>=2.0.3 in /opt/conda/lib/python3.11/site-packages (from nbconvert>=6.4.4->jupyter-server<3,>=2.4.0->jupyterlab->qc-grader@ git+https://github.com/qiskit-community/Quantum-Challenge-Grader.git->qc-grader[jupyter,qiskit]@ git+https://github.com/qiskit-community/Quantum-Challenge-Grader.git) (3.0.2)\n",
      "Requirement already satisfied: nbclient>=0.5.0 in /opt/conda/lib/python3.11/site-packages (from nbconvert>=6.4.4->jupyter-server<3,>=2.4.0->jupyterlab->qc-grader@ git+https://github.com/qiskit-community/Quantum-Challenge-Grader.git->qc-grader[jupyter,qiskit]@ git+https://github.com/qiskit-community/Quantum-Challenge-Grader.git) (0.10.0)\n",
      "Requirement already satisfied: pandocfilters>=1.4.1 in /opt/conda/lib/python3.11/site-packages (from nbconvert>=6.4.4->jupyter-server<3,>=2.4.0->jupyterlab->qc-grader@ git+https://github.com/qiskit-community/Quantum-Challenge-Grader.git->qc-grader[jupyter,qiskit]@ git+https://github.com/qiskit-community/Quantum-Challenge-Grader.git) (1.5.0)\n",
      "Requirement already satisfied: tinycss2 in /opt/conda/lib/python3.11/site-packages (from nbconvert>=6.4.4->jupyter-server<3,>=2.4.0->jupyterlab->qc-grader@ git+https://github.com/qiskit-community/Quantum-Challenge-Grader.git->qc-grader[jupyter,qiskit]@ git+https://github.com/qiskit-community/Quantum-Challenge-Grader.git) (1.3.0)\n",
      "Requirement already satisfied: webencodings in /opt/conda/lib/python3.11/site-packages (from bleach!=5.0.0->nbconvert>=6.4.4->jupyter-server<3,>=2.4.0->jupyterlab->qc-grader@ git+https://github.com/qiskit-community/Quantum-Challenge-Grader.git->qc-grader[jupyter,qiskit]@ git+https://github.com/qiskit-community/Quantum-Challenge-Grader.git) (0.5.1)\n",
      "Requirement already satisfied: fastjsonschema>=2.15 in /opt/conda/lib/python3.11/site-packages (from nbformat>=5.3.0->jupyter-server<3,>=2.4.0->jupyterlab->qc-grader@ git+https://github.com/qiskit-community/Quantum-Challenge-Grader.git->qc-grader[jupyter,qiskit]@ git+https://github.com/qiskit-community/Quantum-Challenge-Grader.git) (2.19.1)\n",
      "Requirement already satisfied: cffi>=1.0.1 in /opt/.qbraid/environments/qgss_000000/pyenv/lib/python3.11/site-packages (from argon2-cffi-bindings->argon2-cffi>=21.1->jupyter-server<3,>=2.4.0->jupyterlab->qc-grader@ git+https://github.com/qiskit-community/Quantum-Challenge-Grader.git->qc-grader[jupyter,qiskit]@ git+https://github.com/qiskit-community/Quantum-Challenge-Grader.git) (1.17.1)\n",
      "Requirement already satisfied: pycparser in /opt/.qbraid/environments/qgss_000000/pyenv/lib/python3.11/site-packages (from cffi>=1.0.1->argon2-cffi-bindings->argon2-cffi>=21.1->jupyter-server<3,>=2.4.0->jupyterlab->qc-grader@ git+https://github.com/qiskit-community/Quantum-Challenge-Grader.git->qc-grader[jupyter,qiskit]@ git+https://github.com/qiskit-community/Quantum-Challenge-Grader.git) (2.22)\n",
      "Requirement already satisfied: soupsieve>1.2 in /opt/conda/lib/python3.11/site-packages (from beautifulsoup4->nbconvert>=6.4.4->jupyter-server<3,>=2.4.0->jupyterlab->qc-grader@ git+https://github.com/qiskit-community/Quantum-Challenge-Grader.git->qc-grader[jupyter,qiskit]@ git+https://github.com/qiskit-community/Quantum-Challenge-Grader.git) (2.5)\n",
      "Requirement already satisfied: arrow>=0.15.0 in /opt/conda/lib/python3.11/site-packages (from isoduration->jsonschema[format-nongpl]>=4.18.0->jupyter-events>=0.9.0->jupyter-server<3,>=2.4.0->jupyterlab->qc-grader@ git+https://github.com/qiskit-community/Quantum-Challenge-Grader.git->qc-grader[jupyter,qiskit]@ git+https://github.com/qiskit-community/Quantum-Challenge-Grader.git) (1.3.0)\n",
      "Requirement already satisfied: types-python-dateutil>=2.8.10 in /opt/conda/lib/python3.11/site-packages (from arrow>=0.15.0->isoduration->jsonschema[format-nongpl]>=4.18.0->jupyter-events>=0.9.0->jupyter-server<3,>=2.4.0->jupyterlab->qc-grader@ git+https://github.com/qiskit-community/Quantum-Challenge-Grader.git->qc-grader[jupyter,qiskit]@ git+https://github.com/qiskit-community/Quantum-Challenge-Grader.git) (2.9.0.20240316)\n",
      "Requirement already satisfied: narwhals>=1.15.1 in /opt/.qbraid/environments/qgss_000000/pyenv/lib/python3.11/site-packages (from plotly->qc-grader@ git+https://github.com/qiskit-community/Quantum-Challenge-Grader.git->qc-grader[jupyter,qiskit]@ git+https://github.com/qiskit-community/Quantum-Challenge-Grader.git) (1.45.0)\n",
      "Requirement already satisfied: requests-ntlm>=1.1.0 in /opt/.qbraid/environments/qgss_000000/pyenv/lib/python3.11/site-packages (from qiskit-ibm-runtime->qc-grader@ git+https://github.com/qiskit-community/Quantum-Challenge-Grader.git->qc-grader[jupyter,qiskit]@ git+https://github.com/qiskit-community/Quantum-Challenge-Grader.git) (1.3.0)\n",
      "Requirement already satisfied: pydantic>=2.5.0 in /opt/.qbraid/environments/qgss_000000/pyenv/lib/python3.11/site-packages (from qiskit-ibm-runtime->qc-grader@ git+https://github.com/qiskit-community/Quantum-Challenge-Grader.git->qc-grader[jupyter,qiskit]@ git+https://github.com/qiskit-community/Quantum-Challenge-Grader.git) (2.11.7)\n",
      "Requirement already satisfied: annotated-types>=0.6.0 in /opt/.qbraid/environments/qgss_000000/pyenv/lib/python3.11/site-packages (from pydantic>=2.5.0->qiskit-ibm-runtime->qc-grader@ git+https://github.com/qiskit-community/Quantum-Challenge-Grader.git->qc-grader[jupyter,qiskit]@ git+https://github.com/qiskit-community/Quantum-Challenge-Grader.git) (0.7.0)\n",
      "Requirement already satisfied: pydantic-core==2.33.2 in /opt/.qbraid/environments/qgss_000000/pyenv/lib/python3.11/site-packages (from pydantic>=2.5.0->qiskit-ibm-runtime->qc-grader@ git+https://github.com/qiskit-community/Quantum-Challenge-Grader.git->qc-grader[jupyter,qiskit]@ git+https://github.com/qiskit-community/Quantum-Challenge-Grader.git) (2.33.2)\n",
      "Requirement already satisfied: typing-inspection>=0.4.0 in /opt/.qbraid/environments/qgss_000000/pyenv/lib/python3.11/site-packages (from pydantic>=2.5.0->qiskit-ibm-runtime->qc-grader@ git+https://github.com/qiskit-community/Quantum-Challenge-Grader.git->qc-grader[jupyter,qiskit]@ git+https://github.com/qiskit-community/Quantum-Challenge-Grader.git) (0.4.1)\n",
      "Requirement already satisfied: cryptography>=1.3 in /opt/.qbraid/environments/qgss_000000/pyenv/lib/python3.11/site-packages (from requests-ntlm>=1.1.0->qiskit-ibm-runtime->qc-grader@ git+https://github.com/qiskit-community/Quantum-Challenge-Grader.git->qc-grader[jupyter,qiskit]@ git+https://github.com/qiskit-community/Quantum-Challenge-Grader.git) (45.0.5)\n",
      "Requirement already satisfied: pyspnego>=0.4.0 in /opt/.qbraid/environments/qgss_000000/pyenv/lib/python3.11/site-packages (from requests-ntlm>=1.1.0->qiskit-ibm-runtime->qc-grader@ git+https://github.com/qiskit-community/Quantum-Challenge-Grader.git->qc-grader[jupyter,qiskit]@ git+https://github.com/qiskit-community/Quantum-Challenge-Grader.git) (0.11.2)\n",
      "Requirement already satisfied: executing>=1.2.0 in /opt/.qbraid/environments/qgss_000000/pyenv/lib/python3.11/site-packages (from stack_data->ipython>=6.1.0->ipywidgets>=7.6.0->ipycytoscape->qc-grader@ git+https://github.com/qiskit-community/Quantum-Challenge-Grader.git->qc-grader[jupyter,qiskit]@ git+https://github.com/qiskit-community/Quantum-Challenge-Grader.git) (2.2.0)\n",
      "Requirement already satisfied: asttokens>=2.1.0 in /opt/.qbraid/environments/qgss_000000/pyenv/lib/python3.11/site-packages (from stack_data->ipython>=6.1.0->ipywidgets>=7.6.0->ipycytoscape->qc-grader@ git+https://github.com/qiskit-community/Quantum-Challenge-Grader.git->qc-grader[jupyter,qiskit]@ git+https://github.com/qiskit-community/Quantum-Challenge-Grader.git) (3.0.0)\n",
      "Requirement already satisfied: pure-eval in /opt/.qbraid/environments/qgss_000000/pyenv/lib/python3.11/site-packages (from stack_data->ipython>=6.1.0->ipywidgets>=7.6.0->ipycytoscape->qc-grader@ git+https://github.com/qiskit-community/Quantum-Challenge-Grader.git->qc-grader[jupyter,qiskit]@ git+https://github.com/qiskit-community/Quantum-Challenge-Grader.git) (0.2.3)\n",
      "Using cached qiskit-2.1.0-cp39-abi3-manylinux_2_17_x86_64.manylinux2014_x86_64.whl (7.5 MB)\n",
      "Installing collected packages: qiskit\n",
      "  Attempting uninstall: qiskit\n",
      "    Found existing installation: qiskit 2.0.3\n",
      "    Uninstalling qiskit-2.0.3:\n",
      "      Successfully uninstalled qiskit-2.0.3\n",
      "Successfully installed qiskit-2.1.0\n",
      "Note: you may need to restart the kernel to use updated packages.\n"
     ]
    }
   ],
   "source": [
    "%pip install \"qc-grader[qiskit,jupyter] @ git+https://github.com/qiskit-community/Quantum-Challenge-Grader.git\""
   ]
  },
  {
   "cell_type": "code",
   "execution_count": 1,
   "id": "219ffd33-16cf-48d7-b675-0c3daae92b86",
   "metadata": {},
   "outputs": [
    {
     "name": "stdout",
     "output_type": "stream",
     "text": [
      "qiskit version: 2.1.0\n",
      "grader version: 0.22.9\n"
     ]
    }
   ],
   "source": [
    "import qiskit\n",
    "import qc_grader\n",
    "\n",
    "print(f\"qiskit version: {qiskit.__version__}\")\n",
    "print(f\"grader version: {qc_grader.__version__}\")"
   ]
  },
  {
   "cell_type": "code",
   "execution_count": 4,
   "id": "d52cb32e-9fd0-40a5-81ac-f74b90e68a85",
   "metadata": {},
   "outputs": [],
   "source": [
    "# saving API key to track progress and having access to quantum computers at IBM\n",
    "\n",
    "my_api_key = \"czckea62oORN6JwhIWqF1o2J-H2lvuoa3_ZiHTm849k6\"\n",
    "my_crn_key = \"crn:v1:bluemix:public:quantum-computing:us-east:a/93ca82e55ebd4cd1b800740b8ba22e06:60d6953e-e4fc-4890-9165-5179d5182d85::\"\n",
    "\n",
    "from qiskit_ibm_runtime import QiskitRuntimeService\n",
    "\n",
    "QiskitRuntimeService.save_account(\n",
    "    channel=\"ibm_quantum_platform\",\n",
    "    token=my_api_key,\n",
    "    instance=my_crn_key,\n",
    "    name=\"qgss-2025\",\n",
    "    overwrite=True\n",
    ")"
   ]
  },
  {
   "cell_type": "code",
   "execution_count": 5,
   "id": "20783572-02db-419b-87ac-9964016a8c73",
   "metadata": {},
   "outputs": [
    {
     "data": {
      "text/plain": [
       "{'qgss-2025': {'channel': 'ibm_quantum_platform',\n",
       "  'url': 'https://cloud.ibm.com',\n",
       "  'token': 'czckea62oORN6JwhIWqF1o2J-H2lvuoa3_ZiHTm849k6',\n",
       "  'instance': 'crn:v1:bluemix:public:quantum-computing:us-east:a/93ca82e55ebd4cd1b800740b8ba22e06:60d6953e-e4fc-4890-9165-5179d5182d85::',\n",
       "  'verify': True,\n",
       "  'private_endpoint': False}}"
      ]
     },
     "execution_count": 5,
     "metadata": {},
     "output_type": "execute_result"
    }
   ],
   "source": [
    "# Check if account has been saved properly\n",
    "\n",
    "service = QiskitRuntimeService(name=\"qgss-2025\")\n",
    "service.saved_accounts()"
   ]
  },
  {
   "cell_type": "code",
   "execution_count": 6,
   "id": "022cfa74-7be3-48fa-a72f-a7bb95592949",
   "metadata": {},
   "outputs": [],
   "source": [
    "import matplotlib.pyplot as plt\n",
    "\n",
    "from qiskit import QuantumCircuit, generate_preset_pass_manager\n",
    "from qiskit.visualization import plot_histogram\n",
    "from qiskit.quantum_info import SparsePauliOp\n",
    "\n",
    "from qiskit_ibm_runtime import QiskitRuntimeService, SamplerV2 as Sampler, EstimatorV2 as Estimator\n",
    "\n",
    "from qiskit_aer import AerSimulator\n",
    "\n",
    "from qc_grader.challenges.qgss_2025 import grade_lab0_ex1, grade_lab0_ex2"
   ]
  },
  {
   "cell_type": "code",
   "execution_count": 1,
   "id": "e13f77ee-941c-40e1-be69-cba782baa9f7",
   "metadata": {},
   "outputs": [
    {
     "ename": "NameError",
     "evalue": "name 'QuantumCircuit' is not defined",
     "output_type": "error",
     "traceback": [
      "\u001b[31m---------------------------------------------------------------------------\u001b[39m",
      "\u001b[31mNameError\u001b[39m                                 Traceback (most recent call last)",
      "\u001b[36mCell\u001b[39m\u001b[36m \u001b[39m\u001b[32mIn[1]\u001b[39m\u001b[32m, line 2\u001b[39m\n\u001b[32m      1\u001b[39m \u001b[38;5;66;03m# Creating a new circuit with a single qubit\u001b[39;00m\n\u001b[32m----> \u001b[39m\u001b[32m2\u001b[39m qc = \u001b[43mQuantumCircuit\u001b[49m(\u001b[32m2\u001b[39m)\n\u001b[32m      3\u001b[39m \u001b[38;5;66;03m# add an H gate to qubit 0\u001b[39;00m\n\u001b[32m      4\u001b[39m qc.h(\u001b[32m0\u001b[39m)\n",
      "\u001b[31mNameError\u001b[39m: name 'QuantumCircuit' is not defined"
     ]
    }
   ],
   "source": [
    "# Creating a new circuit with a single qubit\n",
    "qc = QuantumCircuit(2)\n",
    "# add an H gate to qubit 0\n",
    "qc.h(0)\n",
    "# add a CNOT gate to qubit 1\n",
    "qc.cx(0, 1)\n",
    "#return a drawing of the circuit\n",
    "qc.draw(\"mpl\")"
   ]
  },
  {
   "cell_type": "code",
   "execution_count": 8,
   "id": "06061c89-2878-4017-b1f0-c2dbc99fda28",
   "metadata": {},
   "outputs": [
    {
     "data": {
      "image/png": "[encoded data removed]",
      "text/plain": [
       "<Figure size 371.107x284.278 with 1 Axes>"
      ]
     },
     "execution_count": 8,
     "metadata": {},
     "output_type": "execute_result"
    }
   ],
   "source": [
    "# Create a new quantum circuit with three qubits\n",
    "qc = QuantumCircuit(3)\n",
    "\n",
    "# add an H gate to qubit 0\n",
    "qc.h(0)\n",
    "\n",
    "#add a CNOT gate to qubits 0 and 1\n",
    "qc.cx(0, 1)\n",
    "\n",
    "# add a CNOT gate to qubits 1 and 2\n",
    "qc.cx(1, 2)\n",
    "\n",
    "#return a drawing of the circuit\n",
    "qc.draw(\"mpl\")"
   ]
  },
  {
   "cell_type": "code",
   "execution_count": 9,
   "id": "fd65358d-c265-40f6-b000-51c76bdb85c3",
   "metadata": {},
   "outputs": [
    {
     "name": "stdout",
     "output_type": "stream",
     "text": [
      "Submitting your answer. Please wait...\n",
      "Congratulations 🎉! Your answer is correct and has been submitted.\n"
     ]
    }
   ],
   "source": [
    "grade_lab0_ex1(qc)"
   ]
  },
  {
   "cell_type": "code",
   "execution_count": 14,
   "id": "9affa685-4e9a-4f76-a5ca-3a19317c936d",
   "metadata": {},
   "outputs": [
    {
     "data": {
      "image/png": "[encoded data removed]",
      "text/plain": [
       "<Figure size 507.199x284.278 with 1 Axes>"
      ]
     },
     "execution_count": 14,
     "metadata": {},
     "output_type": "execute_result"
    }
   ],
   "source": [
    "# Write the coupling map of connections between qubits 0 and 1 and 0 and 2 as a list of pairs: [[0,1],...]\n",
    "coupling_map = [[0, 1],[0, 2]]\n",
    "\n",
    "# Transpile the quantum circuit `qc` using the `generate_preset_pass_manager` function and the `coupling_map` list\n",
    "pm = generate_preset_pass_manager(\n",
    "    optimization_level=1,\n",
    "    coupling_map=coupling_map\n",
    ")\n",
    "\n",
    "qc_transpiled = pm.run(qc)\n",
    "# draw the quantum circuit\n",
    "qc_transpiled.draw(\"mpl\")"
   ]
  },
  {
   "cell_type": "code",
   "execution_count": 15,
   "id": "b5927ce8-d63e-48e5-921b-e18a60889895",
   "metadata": {},
   "outputs": [
    {
     "name": "stdout",
     "output_type": "stream",
     "text": [
      "Submitting your answer. Please wait...\n",
      "Congratulations 🎉! Your answer is correct and has been submitted.\n"
     ]
    }
   ],
   "source": [
    "grade_lab0_ex2(qc_transpiled)"
   ]
  },
  {
   "cell_type": "code",
   "execution_count": 18,
   "id": "66d247d0-d6f1-4f8c-add2-a725ae6999d0",
   "metadata": {},
   "outputs": [],
   "source": [
    "# add measurements operation\n",
    "qc.measure_all()\n",
    "\n",
    "# set up the backend\n",
    "backend = AerSimulator()\n",
    "\n",
    "# Set up the sampler\n",
    "sampler = Sampler(mode=backend)\n",
    "\n",
    "# Submit the circuit to sampler\n",
    "pm = generate_preset_pass_manager(backend=backend, optimization_level=1)\n",
    "job = sampler.run(pm.run([qc]))\n",
    "\n",
    "# get the results\n",
    "results_sampler = job.result()"
   ]
  },
  {
   "cell_type": "code",
   "execution_count": 19,
   "id": "2e72c7e0-0b45-4019-96f6-59ce5be5b333",
   "metadata": {},
   "outputs": [],
   "source": [
    "# Set up the Estimator\n",
    "estimator = Estimator(mode=backend)\n",
    "\n",
    "#Define some observables\n",
    "ZZZ = SparsePauliOp(\"ZZZ\")\n",
    "ZZX = SparsePauliOp(\"ZZX\")\n",
    "ZII = SparsePauliOp(\"ZII\")\n",
    "XXI = SparsePauliOp(\"XXI\")\n",
    "ZZI = SparsePauliOp(\"ZZI\")\n",
    "III = SparsePauliOp(\"III\")\n",
    "observables = [ZZZ, ZZX, ZII, XXI, ZZI, III]\n",
    "\n",
    "# Submit the circuit to the estimator\n",
    "pub = (qc, observables)\n",
    "job = estimator.run(pubs=[pub])\n",
    "\n",
    "# Get the result\n",
    "results_estimator = job.result()"
   ]
  },
  {
   "cell_type": "code",
   "execution_count": 23,
   "id": "c8ed8281-9ec3-46fe-bdfb-eda29aa3d135",
   "metadata": {},
   "outputs": [
    {
     "name": "stdout",
     "output_type": "stream",
     "text": [
      " Outcomes: {'000': 516, '111': 508}\n"
     ]
    },
    {
     "data": {
      "image/png": "[encoded data removed]",
      "text/plain": [
       "<Figure size 640x480 with 1 Axes>"
      ]
     },
     "metadata": {},
     "output_type": "display_data"
    }
   ],
   "source": [
    "counts_list = results_sampler[0].data.meas.get_counts()\n",
    "print(f\" Outcomes: {counts_list}\")\n",
    "display(plot_histogram(counts_list, title=\"GHZ state\"))"
   ]
  },
  {
   "cell_type": "code",
   "execution_count": 25,
   "id": "8d2234e4-4a19-4f6e-973f-ce998193c112",
   "metadata": {},
   "outputs": [
    {
     "name": "stdout",
     "output_type": "stream",
     "text": [
      "Expectation values: [('ZZZ', np.float64(-0.0263671875)), ('ZZX', np.float64(0.01611328125)), ('ZII', np.float64(0.00830078125)), ('XXI', np.float64(-0.0205078125)), ('ZZI', np.float64(1.0)), ('III', np.float64(1.0))]\n"
     ]
    },
    {
     "data": {
      "text/plain": [
       "<function matplotlib.pyplot.show(close=None, block=None)>"
      ]
     },
     "execution_count": 25,
     "metadata": {},
     "output_type": "execute_result"
    },
    {
     "data": {
      "image/png": "[encoded data removed]",
      "text/plain": [
       "<Figure size 640x480 with 1 Axes>"
      ]
     },
     "metadata": {},
     "output_type": "display_data"
    }
   ],
   "source": [
    "exp_values = results_estimator[0].data.evs\n",
    "observables_list = [\"ZZZ\", \"ZZX\", \"ZII\", \"XXI\", \"ZZI\", \"III\"]\n",
    "print(f\"Expectation values: {list(zip(observables_list, exp_values))}\")\n",
    "\n",
    "# set up plot\n",
    "container = plt.bar(observables_list, exp_values, width=0.8)\n",
    "\n",
    "# label each axis\n",
    "plt.xlabel(\"Observables\")\n",
    "plt.ylabel(\"Values\")\n",
    "plt.show"
   ]
  },
  {
   "cell_type": "code",
   "execution_count": 1,
   "id": "c7d5719a-7bae-4684-9767-7e4275ff10a2",
   "metadata": {},
   "outputs": [
    {
     "name": "stdout",
     "output_type": "stream",
     "text": [
      "Lab 0: 2/2 exercises completed (100%)\n",
      "    ✅ 1544 participants have completed this lab\n",
      "Lab 1: 0/9 exercises completed (0%)\n",
      "    ✅ 734 participants have completed this lab\n",
      "Lab 2: 0/7 exercises completed (0%)\n",
      "    ✅ 1 participants have completed this lab\n",
      "Lab 3: 0/5 exercises completed (0%)\n",
      "    ✅ 0 participants have completed this lab\n",
      "Lab 4: 0/6 exercises completed (0%)\n",
      "    ✅ 0 participants have completed this lab\n"
     ]
    }
   ],
   "source": [
    "from qc_grader.grader.grade import check_lab_completion_status\n",
    "check_lab_completion_status(\"qgss_2025\")"
   ]
  },
  {
   "cell_type": "code",
   "execution_count": null,
   "id": "fb783f02-38c1-4142-b92d-f6618992669e",
   "metadata": {},
   "outputs": [],
   "source": []
  }
 ],
 "metadata": {
  "kernelspec": {
   "display_name": "Python 3 [QGSS]",
   "language": "python",
   "name": "python3"
  },
  "language_info": {
   "codemirror_mode": {
    "name": "ipython",
    "version": 3
   },
   "file_extension": ".py",
   "mimetype": "text/x-python",
   "name": "python",
   "nbconvert_exporter": "python",
   "pygments_lexer": "ipython3",
   "version": "3.11.9"
  }
 },
 "nbformat": 4,
 "nbformat_minor": 5
}
